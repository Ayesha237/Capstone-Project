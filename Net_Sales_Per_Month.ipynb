{
 "cells": [
  {
   "cell_type": "code",
   "execution_count": 30,
   "metadata": {},
   "outputs": [],
   "source": [
    "import pandas as pd"
   ]
  },
  {
   "cell_type": "code",
   "execution_count": 81,
   "metadata": {},
   "outputs": [
    {
     "name": "stdout",
     "output_type": "stream",
     "text": [
      "<class 'pandas.core.frame.DataFrame'>\n",
      "RangeIndex: 12 entries, 0 to 11\n",
      "Data columns (total 6 columns):\n",
      " #   Column       Non-Null Count  Dtype \n",
      "---  ------       --------------  ----- \n",
      " 0   month        12 non-null     object\n",
      " 1   orders       12 non-null     int64 \n",
      " 2   gross_sales  12 non-null     object\n",
      " 3   discounts    12 non-null     object\n",
      " 4   returns      12 non-null     object\n",
      " 5   net_sales    12 non-null     int64 \n",
      "dtypes: int64(2), object(4)\n",
      "memory usage: 704.0+ bytes\n"
     ]
    },
    {
     "data": {
      "text/plain": [
       "None"
      ]
     },
     "metadata": {},
     "output_type": "display_data"
    }
   ],
   "source": [
    "display(agg1_df.info())"
   ]
  },
  {
   "cell_type": "code",
   "execution_count": 80,
   "metadata": {},
   "outputs": [
    {
     "data": {
      "text/html": [
       "<div>\n",
       "<style scoped>\n",
       "    .dataframe tbody tr th:only-of-type {\n",
       "        vertical-align: middle;\n",
       "    }\n",
       "\n",
       "    .dataframe tbody tr th {\n",
       "        vertical-align: top;\n",
       "    }\n",
       "\n",
       "    .dataframe thead th {\n",
       "        text-align: right;\n",
       "    }\n",
       "</style>\n",
       "<table border=\"1\" class=\"dataframe\">\n",
       "  <thead>\n",
       "    <tr style=\"text-align: right;\">\n",
       "      <th></th>\n",
       "      <th>month</th>\n",
       "      <th>orders</th>\n",
       "      <th>gross_sales</th>\n",
       "      <th>discounts</th>\n",
       "      <th>returns</th>\n",
       "      <th>net_sales</th>\n",
       "    </tr>\n",
       "  </thead>\n",
       "  <tbody>\n",
       "    <tr>\n",
       "      <th>0</th>\n",
       "      <td>2022-03</td>\n",
       "      <td>29</td>\n",
       "      <td>4916,446</td>\n",
       "      <td>-800,959</td>\n",
       "      <td>-221,144</td>\n",
       "      <td>3894</td>\n",
       "    </tr>\n",
       "    <tr>\n",
       "      <th>1</th>\n",
       "      <td>2022-04</td>\n",
       "      <td>30</td>\n",
       "      <td>3734,984</td>\n",
       "      <td>-555,697</td>\n",
       "      <td>-37,191</td>\n",
       "      <td>3142</td>\n",
       "    </tr>\n",
       "    <tr>\n",
       "      <th>2</th>\n",
       "      <td>2022-05</td>\n",
       "      <td>132</td>\n",
       "      <td>18174,135</td>\n",
       "      <td>-2767,539</td>\n",
       "      <td>-108,214</td>\n",
       "      <td>15298</td>\n",
       "    </tr>\n",
       "    <tr>\n",
       "      <th>3</th>\n",
       "      <td>2022-06</td>\n",
       "      <td>190</td>\n",
       "      <td>22672,53</td>\n",
       "      <td>-2394,357</td>\n",
       "      <td>-111,297</td>\n",
       "      <td>20166</td>\n",
       "    </tr>\n",
       "    <tr>\n",
       "      <th>4</th>\n",
       "      <td>2022-07</td>\n",
       "      <td>237</td>\n",
       "      <td>26978,643</td>\n",
       "      <td>-3330,897</td>\n",
       "      <td>-62,383</td>\n",
       "      <td>23585</td>\n",
       "    </tr>\n",
       "    <tr>\n",
       "      <th>5</th>\n",
       "      <td>2022-08</td>\n",
       "      <td>502</td>\n",
       "      <td>52827,145</td>\n",
       "      <td>-2646,12</td>\n",
       "      <td>-644,075</td>\n",
       "      <td>49536</td>\n",
       "    </tr>\n",
       "    <tr>\n",
       "      <th>6</th>\n",
       "      <td>2022-09</td>\n",
       "      <td>501</td>\n",
       "      <td>48011,223</td>\n",
       "      <td>-3545,991</td>\n",
       "      <td>-317,473</td>\n",
       "      <td>44147</td>\n",
       "    </tr>\n",
       "    <tr>\n",
       "      <th>7</th>\n",
       "      <td>2022-10</td>\n",
       "      <td>526</td>\n",
       "      <td>53429,56</td>\n",
       "      <td>-5575,737</td>\n",
       "      <td>-298,079</td>\n",
       "      <td>47555</td>\n",
       "    </tr>\n",
       "    <tr>\n",
       "      <th>8</th>\n",
       "      <td>2022-11</td>\n",
       "      <td>621</td>\n",
       "      <td>75020,76</td>\n",
       "      <td>-11265,54</td>\n",
       "      <td>-445,71</td>\n",
       "      <td>63309</td>\n",
       "    </tr>\n",
       "    <tr>\n",
       "      <th>9</th>\n",
       "      <td>2022-12</td>\n",
       "      <td>480</td>\n",
       "      <td>54078,63</td>\n",
       "      <td>-8343,63</td>\n",
       "      <td>-1012,92</td>\n",
       "      <td>44722</td>\n",
       "    </tr>\n",
       "    <tr>\n",
       "      <th>10</th>\n",
       "      <td>2023-01</td>\n",
       "      <td>673</td>\n",
       "      <td>77755,69</td>\n",
       "      <td>-13023,9</td>\n",
       "      <td>-1058,64</td>\n",
       "      <td>63673</td>\n",
       "    </tr>\n",
       "    <tr>\n",
       "      <th>11</th>\n",
       "      <td>2023-02</td>\n",
       "      <td>904</td>\n",
       "      <td>94588,85</td>\n",
       "      <td>-10346,36</td>\n",
       "      <td>-1883,08</td>\n",
       "      <td>82359</td>\n",
       "    </tr>\n",
       "  </tbody>\n",
       "</table>\n",
       "</div>"
      ],
      "text/plain": [
       "      month  orders gross_sales  discounts   returns  net_sales\n",
       "0   2022-03      29    4916,446   -800,959  -221,144       3894\n",
       "1   2022-04      30    3734,984   -555,697   -37,191       3142\n",
       "2   2022-05     132   18174,135  -2767,539  -108,214      15298\n",
       "3   2022-06     190    22672,53  -2394,357  -111,297      20166\n",
       "4   2022-07     237   26978,643  -3330,897   -62,383      23585\n",
       "5   2022-08     502   52827,145   -2646,12  -644,075      49536\n",
       "6   2022-09     501   48011,223  -3545,991  -317,473      44147\n",
       "7   2022-10     526    53429,56  -5575,737  -298,079      47555\n",
       "8   2022-11     621    75020,76  -11265,54   -445,71      63309\n",
       "9   2022-12     480    54078,63   -8343,63  -1012,92      44722\n",
       "10  2023-01     673    77755,69   -13023,9  -1058,64      63673\n",
       "11  2023-02     904    94588,85  -10346,36  -1883,08      82359"
      ]
     },
     "metadata": {},
     "output_type": "display_data"
    }
   ],
   "source": [
    "agg1_df = pd.read_csv(\"/Users/myiphone/Documents/neuefische/agg3.csv\")\n",
    "display(agg1_df.head(20))"
   ]
  },
  {
   "cell_type": "code",
   "execution_count": 84,
   "metadata": {},
   "outputs": [
    {
     "data": {
      "image/png": "[encoded data removed]",
      "text/plain": [
       "<Figure size 640x480 with 1 Axes>"
      ]
     },
     "metadata": {},
     "output_type": "display_data"
    }
   ],
   "source": [
    "# Convert the month column to a datetime format\n",
    "agg1_df['month'] = pd.to_datetime(agg1_df['month'])\n",
    "\n",
    "# Create a line plot of net_sales per month\n",
    "plt.plot(agg1_df['month'], agg1_df['net_sales'])\n",
    "\n",
    "# Add labels and title to the plot\n",
    "plt.xlabel('Month')\n",
    "plt.ylabel('Net Sales')\n",
    "plt.title('Net Sales per Month')\n",
    "\n",
    "# Display the plot\n",
    "plt.show()\n"
   ]
  }
 ],
 "metadata": {
  "kernelspec": {
   "display_name": "nf_sql",
   "language": "python",
   "name": "python3"
  },
  "language_info": {
   "codemirror_mode": {
    "name": "ipython",
    "version": 3
   },
   "file_extension": ".py",
   "mimetype": "text/x-python",
   "name": "python",
   "nbconvert_exporter": "python",
   "pygments_lexer": "ipython3",
   "version": "3.9.16"
  },
  "orig_nbformat": 4
 },
 "nbformat": 4,
 "nbformat_minor": 2
}
